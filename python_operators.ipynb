{
 "cells": [
  {
   "cell_type": "code",
   "execution_count": 11,
   "id": "0029bf7f-8c7d-432f-8d4c-cf68c64ec465",
   "metadata": {},
   "outputs": [
    {
     "name": "stdin",
     "output_type": "stream",
     "text": [
      "Enter a number: 20\n",
      "Enter a number: 3\n"
     ]
    },
    {
     "name": "stdout",
     "output_type": "stream",
     "text": [
      "Addition: 23\n",
      "adding 20 and 3 is 23\n"
     ]
    }
   ],
   "source": [
    "#ARITHMETIC OPERATORS\n",
    "\n",
    "# Addition\n",
    "a=int(input(\"Enter a number:\"))\n",
    "b=int(input(\"Enter a number:\"))\n",
    "print(\"Addition:\",(a+b))\n",
    "print(f\"adding {a} and {b} is {a+b}\")\n"
   ]
  },
  {
   "cell_type": "code",
   "execution_count": 12,
   "id": "84241468-23c7-445c-b608-d3c0981c248a",
   "metadata": {},
   "outputs": [
    {
     "name": "stdout",
     "output_type": "stream",
     "text": [
      "subtracting 20 and 3 is 17\n"
     ]
    }
   ],
   "source": [
    "#subtraction\n",
    "print(f\"subtracting {a} and {b} is {a-b}\")"
   ]
  },
  {
   "cell_type": "code",
   "execution_count": 13,
   "id": "d3a08e74-9aa4-4b6a-84f1-228817473b21",
   "metadata": {},
   "outputs": [
    {
     "name": "stdout",
     "output_type": "stream",
     "text": [
      "multiplying 20 and 3 is 60\n"
     ]
    }
   ],
   "source": [
    "#multiplication\n",
    "print(f\"multiplying {a} and {b} is {a*b}\")"
   ]
  },
  {
   "cell_type": "code",
   "execution_count": 14,
   "id": "d7a17981-c902-494d-9258-84da1c66536b",
   "metadata": {},
   "outputs": [
    {
     "name": "stdout",
     "output_type": "stream",
     "text": [
      "dividing 20 and 3 is 6.666666666666667\n"
     ]
    }
   ],
   "source": [
    "#division\n",
    "print(f\"dividing {a} and {b} is {a/b}\")"
   ]
  },
  {
   "cell_type": "code",
   "execution_count": 15,
   "id": "f4429d02-96c6-4140-98fb-d99814a3b273",
   "metadata": {},
   "outputs": [
    {
     "name": "stdout",
     "output_type": "stream",
     "text": [
      "floor division of 20 and 3 is 6\n"
     ]
    }
   ],
   "source": [
    "#floor division\n",
    "print(f\"floor division of {a} and {b} is {a//b}\")"
   ]
  },
  {
   "cell_type": "code",
   "execution_count": 16,
   "id": "150572f1-e267-4bc0-8078-8caea9aa0f88",
   "metadata": {},
   "outputs": [
    {
     "name": "stdout",
     "output_type": "stream",
     "text": [
      "modulo of 20 and 3 is 2\n"
     ]
    }
   ],
   "source": [
    "#modulus\n",
    "print(f\"modulo of {a} and {b} is {a%b}\")"
   ]
  },
  {
   "cell_type": "code",
   "execution_count": 39,
   "id": "6209b02f-d4c3-48c0-88de-679b9b7c82dc",
   "metadata": {},
   "outputs": [
    {
     "name": "stdin",
     "output_type": "stream",
     "text": [
      "Enter a number: 2\n",
      "Enter a number: 2\n"
     ]
    },
    {
     "name": "stdout",
     "output_type": "stream",
     "text": [
      "9\n"
     ]
    }
   ],
   "source": [
    "#ASSIGNMENT OPERATOR\n",
    "x=int(input(\"Enter a number:\"))\n",
    "y=int(input(\"Enter a number:\"))\n",
    "z=x+y\n",
    "z+=5\n",
    "print(z)\n",
    "#print(x+y)"
   ]
  },
  {
   "cell_type": "code",
   "execution_count": 40,
   "id": "8fdcee01-7618-4690-af23-e812dc8c90cb",
   "metadata": {},
   "outputs": [
    {
     "name": "stdout",
     "output_type": "stream",
     "text": [
      "4\n"
     ]
    }
   ],
   "source": [
    "z-=5\n",
    "print(z)"
   ]
  },
  {
   "cell_type": "code",
   "execution_count": 41,
   "id": "2eae6931-2166-412d-b4d4-f4f542ce3e8f",
   "metadata": {},
   "outputs": [
    {
     "name": "stdout",
     "output_type": "stream",
     "text": [
      "12\n"
     ]
    }
   ],
   "source": [
    "z*=3\n",
    "print(z)"
   ]
  },
  {
   "cell_type": "code",
   "execution_count": 42,
   "id": "d376375a-67aa-4349-aed1-4a066d0b7a3f",
   "metadata": {},
   "outputs": [
    {
     "name": "stdout",
     "output_type": "stream",
     "text": [
      "4.0\n"
     ]
    }
   ],
   "source": [
    "z/=3\n",
    "print(z)"
   ]
  },
  {
   "cell_type": "code",
   "execution_count": 64,
   "id": "043bfac6-b11a-494f-b07b-c65fef6f00e4",
   "metadata": {},
   "outputs": [
    {
     "name": "stdout",
     "output_type": "stream",
     "text": [
      "0.0\n"
     ]
    }
   ],
   "source": [
    "z%=5\n",
    "print(z)"
   ]
  },
  {
   "cell_type": "code",
   "execution_count": 65,
   "id": "15331bb7-dc9a-4a26-b804-8c458b1e4d47",
   "metadata": {},
   "outputs": [
    {
     "name": "stdout",
     "output_type": "stream",
     "text": [
      "0.0\n"
     ]
    }
   ],
   "source": [
    "z//=5\n",
    "print(z)"
   ]
  },
  {
   "cell_type": "code",
   "execution_count": 76,
   "id": "548ff0b5-0c8a-4ed1-b9fd-9d00f297ed8c",
   "metadata": {},
   "outputs": [
    {
     "name": "stdin",
     "output_type": "stream",
     "text": [
      "enter a number: 30\n",
      "enter a number: 25\n"
     ]
    },
    {
     "name": "stdout",
     "output_type": "stream",
     "text": [
      "30>25 is True\n",
      "30<25 is False\n",
      "30>=25 is  True\n",
      "30<=25 is  False\n",
      "30==25 is  False\n",
      "30!=25 is  True\n"
     ]
    }
   ],
   "source": [
    "#comparison operator\n",
    "g=int(input(\"enter a number:\"))\n",
    "h=int(input(\"enter a number:\"))\n",
    "print(f\"{g}>{h} is {g>h}\")\n",
    "print(f\"{g}<{h} is {g<h}\")\n",
    "print(f\"{g}>={h} is  {g>=h}\")\n",
    "print(f\"{g}<={h} is  {g<=h}\")\n",
    "print(f\"{g}=={h} is  {g==h}\")\n",
    "print(f\"{g}!={h} is  {g!=h}\")"
   ]
  }
 ],
 "metadata": {
  "kernelspec": {
   "display_name": "Python 3 (ipykernel)",
   "language": "python",
   "name": "python3"
  },
  "language_info": {
   "codemirror_mode": {
    "name": "ipython",
    "version": 3
   },
   "file_extension": ".py",
   "mimetype": "text/x-python",
   "name": "python",
   "nbconvert_exporter": "python",
   "pygments_lexer": "ipython3",
   "version": "3.12.7"
  }
 },
 "nbformat": 4,
 "nbformat_minor": 5
}
